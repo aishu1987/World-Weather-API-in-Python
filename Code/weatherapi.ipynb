{
 "cells": [
  {
   "cell_type": "code",
   "execution_count": 66,
   "metadata": {},
   "outputs": [],
   "source": [
    "### STEP 1\n",
    "\n",
    "import requests, json, pandas\n",
    "  \n",
    "# Enter your API key here \n",
    "api_key = \"083d4e337c3d4d2cb83211201182610\"\n",
    "# base_url variable to store url \n",
    "base_url = \"http://api.worldweatheronline.com/premium/v1/past-weather.ashx\"\n",
    "# Give city name \n",
    "zipcode = \"CP 22550\"\n",
    "#Give format\n",
    "formattype = \"json\"\n",
    "#Give startdate\n",
    "#startdate = \"2019-01-01\"\n",
    "#Give enddate\n",
    "#enddate = \"2019-02-06\"\n",
    "#Give interval parameter\n",
    "tp = \"3\"\n",
    "# complete_url variable to store \n",
    "# complete url address\n",
    "#complete_url = base_url + \"?key=\" + api_key + \"&q=\" + zipcode + \"&format=\" + formattype + \"&date=\" +\\\n",
    "#startdate + \"&enddate=\" + enddate + \"&tp=\" + tp"
   ]
  },
  {
   "cell_type": "code",
   "execution_count": null,
   "metadata": {},
   "outputs": [],
   "source": [
    "complete_url"
   ]
  },
  {
   "cell_type": "code",
   "execution_count": 67,
   "metadata": {},
   "outputs": [],
   "source": [
    "### STEP 2\n",
    "\n",
    "df = pandas.read_csv(\"dates.csv\")"
   ]
  },
  {
   "cell_type": "code",
   "execution_count": null,
   "metadata": {},
   "outputs": [],
   "source": [
    "#with open('data1.json', 'w') as outfile:\n",
    "#myfile = open(\"datajson.txt\",'w')   \n",
    "for i in df:\n",
    "    startdate = df.startdate\n",
    "    enddate = df.enddate\n",
    "    complete_url = base_url + \"?key=\" + api_key + \"&q=\" + zipcode + \"&format=\" + formattype + \"&date=\" +\\\n",
    "                        startdate + \"&enddate=\" + enddate + \"&tp=\" + tp\n",
    "    response = requests.get(complete_url)\n",
    "    x = response.json()\n",
    "    print(x)\n",
    "    #myfile.writelines(x+\"\\n\")\n",
    "        #json.dump(x, outfile)\n",
    "        #print(complete_url)\n",
    "#outfile.close()\n",
    "myfile.close()"
   ]
  },
  {
   "cell_type": "code",
   "execution_count": null,
   "metadata": {
    "collapsed": true
   },
   "outputs": [],
   "source": [
    "with open('data.json', 'w') as outfile:\n",
    "    json.dump(x, outfile)"
   ]
  },
  {
   "cell_type": "code",
   "execution_count": null,
   "metadata": {
    "collapsed": true
   },
   "outputs": [],
   "source": [
    "# complete_url variable to store \n",
    "# complete url address \n",
    "complete_url = base_url + \"?key=\" + api_key + \"&q=\" + zipcode + \"&format=\" + formattype + \"&date=\" + startdate + \"&enddate=\" + enddate + \"&tp=\" + tp  \n",
    "\n",
    "# get method of requests module \n",
    "# return response object \n",
    "response = requests.get(complete_url)\n",
    "x = response.json()\n",
    "print(x)"
   ]
  },
  {
   "cell_type": "code",
   "execution_count": 68,
   "metadata": {},
   "outputs": [],
   "source": [
    "### STEP 3\n",
    "\n",
    "myfile = open(\"complete_url_list_{}.txt\".format(zipcode),'w')\n",
    "for i in df:\n",
    "    startdate = df.startdate\n",
    "    enddate = df.enddate\n",
    "    complete_url = base_url + \"?key=\" + api_key + \"&q=\" + zipcode + \"&format=\" + formattype + \"&date=\" +\\\n",
    "                   startdate + \"&enddate=\" + enddate + \"&tp=\" + tp\n",
    "        #response = requests.get(complete_url)\n",
    "        #x = response.json()\n",
    "        #json.dump(x, outfile)\n",
    "    myfile.writelines(complete_url+\"\\n\")\n",
    "    #print(complete_url)\n",
    "    \n",
    "myfile.close()"
   ]
  },
  {
   "cell_type": "code",
   "execution_count": 69,
   "metadata": {},
   "outputs": [
    {
     "data": {
      "text/plain": [
       "['http://api.worldweatheronline.com/premium/v1/past-weather.ashx?key=083d4e337c3d4d2cb83211201182610&q=CP 22550&format=json&date=2014-03-01&enddate=2014-03-31&tp=3\\n',\n",
       " 'http://api.worldweatheronline.com/premium/v1/past-weather.ashx?key=083d4e337c3d4d2cb83211201182610&q=CP 22550&format=json&date=2014-04-01&enddate=2014-04-30&tp=3\\n']"
      ]
     },
     "execution_count": 69,
     "metadata": {},
     "output_type": "execute_result"
    }
   ],
   "source": [
    "### STEP 4\n",
    "\n",
    "\n",
    "url_list = open(\"complete_url_list_{}.txt\".format(zipcode),'r')\n",
    "lines = url_list.readlines()\n",
    "lines[1:3]"
   ]
  },
  {
   "cell_type": "code",
   "execution_count": 70,
   "metadata": {},
   "outputs": [],
   "source": [
    "### STEP 5\n",
    "\n",
    "x = []\n",
    "with open('{}.json'.format(zipcode), 'w') as outfile:\n",
    "    #outfile.write('[')\n",
    "    for i in lines :\n",
    "        response= requests.get(i)\n",
    "        x.append(response.json())\n",
    "    #json.dump(x, outfile, indent = 2, sort_keys= True)\n",
    "    json.dump(x,outfile) \n",
    "        #outfile.write(',')\n",
    "    #outfile.write(']')"
   ]
  },
  {
   "cell_type": "code",
   "execution_count": 41,
   "metadata": {
    "scrolled": true
   },
   "outputs": [
    {
     "data": {
      "text/plain": [
       "'63379.json'"
      ]
     },
     "execution_count": 41,
     "metadata": {},
     "output_type": "execute_result"
    }
   ],
   "source": [
    "filename = '{}.json'.format(city_name)\n",
    "filename"
   ]
  }
 ],
 "metadata": {
  "kernelspec": {
   "display_name": "Python 3",
   "language": "python",
   "name": "python3"
  },
  "language_info": {
   "codemirror_mode": {
    "name": "ipython",
    "version": 3
   },
   "file_extension": ".py",
   "mimetype": "text/x-python",
   "name": "python",
   "nbconvert_exporter": "python",
   "pygments_lexer": "ipython3",
   "version": "3.6.3"
  }
 },
 "nbformat": 4,
 "nbformat_minor": 2
}
