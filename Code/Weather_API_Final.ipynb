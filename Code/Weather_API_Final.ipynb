{
 "cells": [
  {
   "cell_type": "code",
   "execution_count": 1,
   "metadata": {
    "scrolled": true
   },
   "outputs": [
    {
     "name": "stdout",
     "output_type": "stream",
     "text": [
      "38301\n",
      "['http://api.worldweatheronline.com/premium/v1/past-weather.ashx?key=083d4e337c3d4d2cb83211201182610&q=38301&format=json&date=2014-03-01&enddate=2014-03-31&tp=3\\n', 'http://api.worldweatheronline.com/premium/v1/past-weather.ashx?key=083d4e337c3d4d2cb83211201182610&q=38301&format=json&date=2014-04-01&enddate=2014-04-30&tp=3\\n']\n",
      "63379\n",
      "['http://api.worldweatheronline.com/premium/v1/past-weather.ashx?key=083d4e337c3d4d2cb83211201182610&q=63379&format=json&date=2014-03-01&enddate=2014-03-31&tp=3\\n', 'http://api.worldweatheronline.com/premium/v1/past-weather.ashx?key=083d4e337c3d4d2cb83211201182610&q=63379&format=json&date=2014-04-01&enddate=2014-04-30&tp=3\\n']\n",
      "BC V4G1E7\n",
      "['http://api.worldweatheronline.com/premium/v1/past-weather.ashx?key=083d4e337c3d4d2cb83211201182610&q=BC V4G1E7&format=json&date=2014-03-01&enddate=2014-03-31&tp=3\\n', 'http://api.worldweatheronline.com/premium/v1/past-weather.ashx?key=083d4e337c3d4d2cb83211201182610&q=BC V4G1E7&format=json&date=2014-04-01&enddate=2014-04-30&tp=3\\n']\n",
      "90805\n",
      "['http://api.worldweatheronline.com/premium/v1/past-weather.ashx?key=083d4e337c3d4d2cb83211201182610&q=90805&format=json&date=2014-03-01&enddate=2014-03-31&tp=3\\n', 'http://api.worldweatheronline.com/premium/v1/past-weather.ashx?key=083d4e337c3d4d2cb83211201182610&q=90805&format=json&date=2014-04-01&enddate=2014-04-30&tp=3\\n']\n",
      "35810\n",
      "['http://api.worldweatheronline.com/premium/v1/past-weather.ashx?key=083d4e337c3d4d2cb83211201182610&q=35810&format=json&date=2014-03-01&enddate=2014-03-31&tp=3\\n', 'http://api.worldweatheronline.com/premium/v1/past-weather.ashx?key=083d4e337c3d4d2cb83211201182610&q=35810&format=json&date=2014-04-01&enddate=2014-04-30&tp=3\\n']\n",
      "CP 22550\n",
      "['http://api.worldweatheronline.com/premium/v1/past-weather.ashx?key=083d4e337c3d4d2cb83211201182610&q=CP 22550&format=json&date=2014-03-01&enddate=2014-03-31&tp=3\\n', 'http://api.worldweatheronline.com/premium/v1/past-weather.ashx?key=083d4e337c3d4d2cb83211201182610&q=CP 22550&format=json&date=2014-04-01&enddate=2014-04-30&tp=3\\n']\n",
      "25033\n",
      "['http://api.worldweatheronline.com/premium/v1/past-weather.ashx?key=083d4e337c3d4d2cb83211201182610&q=25033&format=json&date=2014-03-01&enddate=2014-03-31&tp=3\\n', 'http://api.worldweatheronline.com/premium/v1/past-weather.ashx?key=083d4e337c3d4d2cb83211201182610&q=25033&format=json&date=2014-04-01&enddate=2014-04-30&tp=3\\n']\n",
      "47670\n",
      "['http://api.worldweatheronline.com/premium/v1/past-weather.ashx?key=083d4e337c3d4d2cb83211201182610&q=47670&format=json&date=2014-03-01&enddate=2014-03-31&tp=3\\n', 'http://api.worldweatheronline.com/premium/v1/past-weather.ashx?key=083d4e337c3d4d2cb83211201182610&q=47670&format=json&date=2014-04-01&enddate=2014-04-30&tp=3\\n']\n",
      "40324\n",
      "['http://api.worldweatheronline.com/premium/v1/past-weather.ashx?key=083d4e337c3d4d2cb83211201182610&q=40324&format=json&date=2014-03-01&enddate=2014-03-31&tp=3\\n', 'http://api.worldweatheronline.com/premium/v1/past-weather.ashx?key=083d4e337c3d4d2cb83211201182610&q=40324&format=json&date=2014-04-01&enddate=2014-04-30&tp=3\\n']\n",
      "78264\n",
      "['http://api.worldweatheronline.com/premium/v1/past-weather.ashx?key=083d4e337c3d4d2cb83211201182610&q=78264&format=json&date=2014-03-01&enddate=2014-03-31&tp=3\\n', 'http://api.worldweatheronline.com/premium/v1/past-weather.ashx?key=083d4e337c3d4d2cb83211201182610&q=78264&format=json&date=2014-04-01&enddate=2014-04-30&tp=3\\n']\n",
      "38828\n",
      "['http://api.worldweatheronline.com/premium/v1/past-weather.ashx?key=083d4e337c3d4d2cb83211201182610&q=38828&format=json&date=2014-03-01&enddate=2014-03-31&tp=3\\n', 'http://api.worldweatheronline.com/premium/v1/past-weather.ashx?key=083d4e337c3d4d2cb83211201182610&q=38828&format=json&date=2014-04-01&enddate=2014-04-30&tp=3\\n']\n",
      "N3H5K2\n",
      "['http://api.worldweatheronline.com/premium/v1/past-weather.ashx?key=083d4e337c3d4d2cb83211201182610&q=N3H5K2&format=json&date=2014-03-01&enddate=2014-03-31&tp=3\\n', 'http://api.worldweatheronline.com/premium/v1/past-weather.ashx?key=083d4e337c3d4d2cb83211201182610&q=N3H5K2&format=json&date=2014-04-01&enddate=2014-04-30&tp=3\\n']\n",
      "N4S7V9\n",
      "['http://api.worldweatheronline.com/premium/v1/past-weather.ashx?key=083d4e337c3d4d2cb83211201182610&q=N4S7V9&format=json&date=2014-03-01&enddate=2014-03-31&tp=3\\n', 'http://api.worldweatheronline.com/premium/v1/past-weather.ashx?key=083d4e337c3d4d2cb83211201182610&q=N4S7V9&format=json&date=2014-04-01&enddate=2014-04-30&tp=3\\n']\n",
      "90501\n",
      "['http://api.worldweatheronline.com/premium/v1/past-weather.ashx?key=083d4e337c3d4d2cb83211201182610&q=90501&format=json&date=2014-03-01&enddate=2014-03-31&tp=3\\n', 'http://api.worldweatheronline.com/premium/v1/past-weather.ashx?key=083d4e337c3d4d2cb83211201182610&q=90501&format=json&date=2014-04-01&enddate=2014-04-30&tp=3\\n']\n",
      "48105\n",
      "['http://api.worldweatheronline.com/premium/v1/past-weather.ashx?key=083d4e337c3d4d2cb83211201182610&q=48105&format=json&date=2014-03-01&enddate=2014-03-31&tp=3\\n', 'http://api.worldweatheronline.com/premium/v1/past-weather.ashx?key=083d4e337c3d4d2cb83211201182610&q=48105&format=json&date=2014-04-01&enddate=2014-04-30&tp=3\\n']\n",
      "90248\n",
      "['http://api.worldweatheronline.com/premium/v1/past-weather.ashx?key=083d4e337c3d4d2cb83211201182610&q=90248&format=json&date=2014-03-01&enddate=2014-03-31&tp=3\\n', 'http://api.worldweatheronline.com/premium/v1/past-weather.ashx?key=083d4e337c3d4d2cb83211201182610&q=90248&format=json&date=2014-04-01&enddate=2014-04-30&tp=3\\n']\n",
      "85361\n",
      "['http://api.worldweatheronline.com/premium/v1/past-weather.ashx?key=083d4e337c3d4d2cb83211201182610&q=85361&format=json&date=2014-03-01&enddate=2014-03-31&tp=3\\n', 'http://api.worldweatheronline.com/premium/v1/past-weather.ashx?key=083d4e337c3d4d2cb83211201182610&q=85361&format=json&date=2014-04-01&enddate=2014-04-30&tp=3\\n']\n"
     ]
    }
   ],
   "source": [
    "import requests, json, pandas\n",
    "  \n",
    "# Enter your API key here \n",
    "api_key = open('key.txt','r').read()\n",
    "# base_url variable to store url \n",
    "base_url = \"http://api.worldweatheronline.com/premium/v1/past-weather.ashx\"\n",
    "# Give city name \n",
    "#zipcode = \"35810\"\n",
    "#Give format\n",
    "formattype = \"json\"\n",
    "#Give startdate\n",
    "#startdate = \"2019-01-01\"\n",
    "#Give enddate\n",
    "#enddate = \"2019-02-06\"\n",
    "#Give interval parameter\n",
    "tp = \"3\"\n",
    "\n",
    "# reading the date range data\n",
    "df = pandas.read_csv(\"dates.csv\")\n",
    "\n",
    "#reading the zipcode file\n",
    "zipcode = pandas.read_csv(\"zipcodes_all.csv\")\n",
    "\n",
    "#print(zipcode)\n",
    "#for i in zipcodes:\n",
    "#    print(i)\n",
    "\n",
    "for a in range(len(zipcode.index)):\n",
    "    z = str(zipcode.zipcodes.iloc[a])\n",
    "    print(z)\n",
    "    myfile = open(\"complete_url_list_{}.txt\".format(z),'w')\n",
    "    for i in range(len(df.index)):\n",
    "        startdate = str(df.startdate.iloc[i])\n",
    "        enddate = str(df.enddate.iloc[i])\n",
    "        complete_url = base_url + \"?key=\" + api_key + \"&q=\" + z + \"&format=\" + formattype + \"&date=\" +\\\n",
    "                       startdate + \"&enddate=\" + enddate + \"&tp=\" + tp\n",
    "        myfile.writelines(complete_url+\"\\n\")\n",
    "    #print(complete_url)\n",
    "    myfile.close()\n",
    "    \n",
    "    \n",
    "    \n",
    "    url_list = open(\"complete_url_list_{}.txt\".format(z),'r')\n",
    "    lines = url_list.readlines()\n",
    "    print(lines[1:3])\n",
    "    \n",
    "    x = []\n",
    "    outfile = open('{}.json'.format(z), 'w')\n",
    "    for j in lines :\n",
    "        response= requests.get(j)\n",
    "        x.append(response.json())\n",
    "        #json.dump(x, outfile, indent = 2, sort_keys= True)\n",
    "    json.dump(x,outfile)"
   ]
  }
 ],
 "metadata": {
  "kernelspec": {
   "display_name": "Python 3",
   "language": "python",
   "name": "python3"
  },
  "language_info": {
   "codemirror_mode": {
    "name": "ipython",
    "version": 3
   },
   "file_extension": ".py",
   "mimetype": "text/x-python",
   "name": "python",
   "nbconvert_exporter": "python",
   "pygments_lexer": "ipython3",
   "version": "3.6.3"
  }
 },
 "nbformat": 4,
 "nbformat_minor": 2
}
